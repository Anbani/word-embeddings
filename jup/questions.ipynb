{
 "cells": [
  {
   "cell_type": "markdown",
   "metadata": {},
   "source": [
    "# Testing the accuracy\n",
    "To test our accuracy over unsupervised training task it's would to build custom tests for the use case. Since I'm lazy I will just try to Georgianify Google's test examples from https://raw.githubusercontent.com/RaRe-Technologies/gensim/develop/gensim/test/test_data/questions-words.txt using Google Translate. This would give terrible results but will be prove useful for hyperparameter turning.\n",
    "\n",
    "The file contains 20,000 syntactic and semantic test examples in a format of ```A is to B as C is to D```. "
   ]
  },
  {
   "cell_type": "code",
   "execution_count": 1,
   "metadata": {},
   "outputs": [
    {
     "data": {
      "text/plain": [
       "[': capital-common-countries',\n",
       " 'Athens Greece Baghdad Iraq',\n",
       " 'Athens Greece Bangkok Thailand',\n",
       " 'Athens Greece Beijing China',\n",
       " 'Athens Greece Berlin Germany']"
      ]
     },
     "execution_count": 1,
     "metadata": {},
     "output_type": "execute_result"
    }
   ],
   "source": [
    "with open(\"../txt/questions-words.txt\", \"r\") as file:\n",
    "    questions = [sentence.replace('\\n','') for sentence in file.readlines()]\n",
    "\n",
    "questions[:5]"
   ]
  },
  {
   "cell_type": "code",
   "execution_count": 2,
   "metadata": {},
   "outputs": [
    {
     "data": {
      "text/plain": [
       "['აბუაია', 'მისაღებია', 'აკურა', 'ავღანეთი', 'აკრონი']"
      ]
     },
     "execution_count": 2,
     "metadata": {},
     "output_type": "execute_result"
    }
   ],
   "source": [
    "with open(\"../txt/geowords.txt\", \"r\", encoding=\"utf-8\") as file:\n",
    "    geowords = [sentence.replace('\\n','') for sentence in file.readlines()]\n",
    "    \n",
    "geowords[:5]"
   ]
  },
  {
   "cell_type": "code",
   "execution_count": 3,
   "metadata": {},
   "outputs": [],
   "source": [
    "for i, word in enumerate(geowords):\n",
    "    if len(word.split(' ')) > 1:\n",
    "        geowords[i] = word.split(' ')[0]"
   ]
  },
  {
   "cell_type": "code",
   "execution_count": 4,
   "metadata": {},
   "outputs": [
    {
     "data": {
      "text/plain": [
       "['Abuja', 'acceptable', 'Accra', 'Afghanistan', 'Akron']"
      ]
     },
     "execution_count": 4,
     "metadata": {},
     "output_type": "execute_result"
    }
   ],
   "source": [
    "with open(\"../txt/engwords.txt\", \"r\", encoding=\"utf-8\") as file:\n",
    "    engwords = [sentence.replace('\\n','') for sentence in file.readlines()]\n",
    "    \n",
    "engwords[:5]"
   ]
  },
  {
   "cell_type": "code",
   "execution_count": 5,
   "metadata": {},
   "outputs": [
    {
     "data": {
      "text/plain": [
       "'საქართველო'"
      ]
     },
     "execution_count": 5,
     "metadata": {},
     "output_type": "execute_result"
    }
   ],
   "source": [
    "dictionary = dict(zip(engwords,geowords))\n",
    "dictionary['Georgia']"
   ]
  },
  {
   "cell_type": "code",
   "execution_count": 6,
   "metadata": {},
   "outputs": [],
   "source": [
    "for i,line in enumerate(questions):\n",
    "    if line[0] != ':':\n",
    "        questions[i] = ' '.join(list(map(lambda x: dictionary[x], line.split(' '))))"
   ]
  },
  {
   "cell_type": "code",
   "execution_count": 8,
   "metadata": {},
   "outputs": [
    {
     "data": {
      "text/plain": [
       "[': capital-common-countries',\n",
       " 'ათენი საბერძნეთი ბაღდადი ერაყი',\n",
       " 'ათენი საბერძნეთი ბანგკოკი ტაილანდი',\n",
       " 'ათენი საბერძნეთი პეკინი ჩინეთი',\n",
       " 'ათენი საბერძნეთი ბერლინი გერმანია']"
      ]
     },
     "execution_count": 8,
     "metadata": {},
     "output_type": "execute_result"
    }
   ],
   "source": [
    "questions[:5]"
   ]
  },
  {
   "cell_type": "code",
   "execution_count": 7,
   "metadata": {},
   "outputs": [],
   "source": [
    "with open(\"../txt/questions-words-ka.txt\", \"w\", encoding=\"utf-8\") as file:\n",
    "    file.write('\\n'.join(questions))"
   ]
  }
 ],
 "metadata": {
  "kernelspec": {
   "display_name": "Python 3",
   "language": "python",
   "name": "python3"
  },
  "language_info": {
   "codemirror_mode": {
    "name": "ipython",
    "version": 3
   },
   "file_extension": ".py",
   "mimetype": "text/x-python",
   "name": "python",
   "nbconvert_exporter": "python",
   "pygments_lexer": "ipython3",
   "version": "3.6.4"
  }
 },
 "nbformat": 4,
 "nbformat_minor": 2
}
