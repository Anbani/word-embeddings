{
 "cells": [
  {
   "cell_type": "code",
   "execution_count": 2,
   "metadata": {},
   "outputs": [],
   "source": [
    "import gensim\n",
    "from tqdm import tqdm"
   ]
  },
  {
   "cell_type": "markdown",
   "metadata": {},
   "source": [
    "### Wikipedia dump\n",
    "- Download ```kawiki-latest-pages-articles-multistream.xml``` files from https://dumps.wikimedia.org/kawiki/latest/\n",
    "- Parse text from xml files using WikiExtractor - https://github.com/attardi/wikiextractor\n",
    "- Load ```kawiki.txt``` file"
   ]
  },
  {
   "cell_type": "code",
   "execution_count": 3,
   "metadata": {},
   "outputs": [
    {
     "data": {
      "text/plain": [
       "' \\nედუარდ შევარდნაძე\\n\\nედუარდ ამბროსის ძე შევარდნაძე (დ. 25 იანვარი, 1928, მამათი, დღევანდელი ლანჩხუთის მუნიციპალიტეტი — გ. 7 ივლისი, 2014, თბილისი) — ქართველი პოლიტიკოსი და სახელმწიფო მოღვაწე. 1985-1990 წლებში საბჭოთა კავშირის საგარეო საქმეთა მინისტრი, 1995–2003 წლებში საქართველოს პრეზიდენტი.\\n\\nსკკპ წევრი 1948 წლიდან. 1946 წლის ივლის-ოქტომბერში მუშაობდა საქართველოს ალკკ თბილისის ორჯონიკიძის რაიკომის ინსტრუქტორად. IX-XI მოწვევების უმაღლესი საბჭოს დეპუტატი. სოციალისტური შრომის გმირი (1981). სკკპ ცკ-'"
      ]
     },
     "execution_count": 3,
     "metadata": {},
     "output_type": "execute_result"
    }
   ],
   "source": [
    "with open(\"../txt/kawiki.txt\", \"r\", encoding=\"utf-8\") as file:\n",
    "    document = file.read()\n",
    "\n",
    "document[:500]"
   ]
  },
  {
   "cell_type": "markdown",
   "metadata": {},
   "source": [
    "### Remove Stopwords\n",
    "- Use ```stopwords.txt``` file to clean up Georgian stopwords from the text"
   ]
  },
  {
   "cell_type": "code",
   "execution_count": 4,
   "metadata": {},
   "outputs": [
    {
     "data": {
      "text/plain": [
       "['ა.შ.', 'აგერ', 'აგრეთვე', 'ალბათ', 'ამაზე']"
      ]
     },
     "execution_count": 4,
     "metadata": {},
     "output_type": "execute_result"
    }
   ],
   "source": [
    "with open(\"../txt/stopwords.txt\", \"r\", encoding=\"utf-8\") as file:\n",
    "    stopwords = [line.replace('\\n','') for line in file.readlines()]\n",
    "stopwords[:5]"
   ]
  },
  {
   "cell_type": "code",
   "execution_count": 5,
   "metadata": {},
   "outputs": [
    {
     "name": "stderr",
     "output_type": "stream",
     "text": [
      "100%|█████████████████████████████████████████████████████████████████████████████████████████████████████████████████████████████████████████████████████████████████████| 373/373 [12:36<00:00,  2.03s/it]\n"
     ]
    },
    {
     "data": {
      "text/plain": [
       "'  ედუარდ შევარდნაძე  ედუარდ ამბროსის ძე შევარდნაძე (დ. 25 იანვარი, 1928, მამათი, დღევანდელი ლანჩხუთის მუნიციპალიტეტი — გ. 7 ივლისი, 2014, თბილისი) — ქართველი პოლიტიკოსი  სახელმწიფო მოღვაწე. 1985-1990 წლებში საბჭოთა კავშირის საგარეო საქმეთა მინისტრი, 1995–2003 წლებში საქართველოს პრეზიდენტი.  სკკპ წევრი 1948 წლიდან. 1946 წლის ივლის-ოქტომბერში მუშაობდა საქართველოს ალკკ თბილისის ორჯონიკიძის რაიკომის ინსტრუქტორად. IX-XI მოწვევების უმაღლესი საბჭოს დეპუტატი. სოციალისტური შრომის გმირი (1981). სკკპ ცკ-ის'"
      ]
     },
     "execution_count": 5,
     "metadata": {},
     "output_type": "execute_result"
    }
   ],
   "source": [
    "import re\n",
    "for s in tqdm(stopwords):\n",
    "    document = re.sub(r\"\\b\" + s + r\"\\b\", '', document.replace('\\n', ' '))\n",
    "\n",
    "document[:500]"
   ]
  },
  {
   "cell_type": "markdown",
   "metadata": {},
   "source": [
    "### Divide the document into sentences"
   ]
  },
  {
   "cell_type": "code",
   "execution_count": 6,
   "metadata": {},
   "outputs": [
    {
     "data": {
      "text/plain": [
       "['  ედუარდ შევარდნაძე  ედუარდ ამბროსის ძე შევარდნაძე  დ. 25 იანვარი  1928  მამათი  დღევანდელი ლანჩხუთის მუნიციპალიტეტი — გ. 7 ივლისი  2014  თბილისი  — ქართველი პოლიტიკოსი  სახელმწიფო მოღვაწე',\n",
       " ' 1985-1990 წლებში საბჭოთა კავშირის საგარეო საქმეთა მინისტრი  1995–2003 წლებში საქართველოს პრეზიდენტი',\n",
       " '  სკკპ წევრი 1948 წლიდან',\n",
       " ' 1946 წლის ივლის-ოქტომბერში მუშაობდა საქართველოს ალკკ თბილისის ორჯონიკიძის რაიკომის ინსტრუქტორად',\n",
       " '   -   მოწვევების უმაღლესი საბჭოს დეპუტატი']"
      ]
     },
     "execution_count": 6,
     "metadata": {},
     "output_type": "execute_result"
    }
   ],
   "source": [
    "sentences = re.split(r\"(?<=\\w\\w\\w)\\.\", re.sub(r'[^ა-ჰ0-9\\.\\-—–\\s]',' ', document))\n",
    "sentences[:5]"
   ]
  },
  {
   "cell_type": "code",
   "execution_count": 7,
   "metadata": {},
   "outputs": [
    {
     "data": {
      "text/plain": [
       "1057879"
      ]
     },
     "execution_count": 7,
     "metadata": {},
     "output_type": "execute_result"
    }
   ],
   "source": [
    "len(sentences)"
   ]
  },
  {
   "cell_type": "code",
   "execution_count": 8,
   "metadata": {},
   "outputs": [],
   "source": [
    "def process_lines(sentences):\n",
    "    for line in tqdm(sentences):\n",
    "        yield gensim.utils.simple_preprocess(line, max_len=100)"
   ]
  },
  {
   "cell_type": "code",
   "execution_count": 9,
   "metadata": {},
   "outputs": [
    {
     "name": "stderr",
     "output_type": "stream",
     "text": [
      "100%|██████████████████████████████████████████████████████████████████████████████████████████████████████████████████████████████████████████████████████████| 1057879/1057879 [00:16<00:00, 63878.89it/s]\n"
     ]
    }
   ],
   "source": [
    "tokens = list(process_lines(sentences))"
   ]
  },
  {
   "cell_type": "markdown",
   "metadata": {},
   "source": [
    "### Training\n",
    "Common parameters to tune:\n",
    "- min_count (int) – Ignores all words with total frequency lower than this.\n",
    "- window (int) – The maximum distance between the current and predicted word within a sentence.\n",
    "- size (int) – Dimensionality of the feature vectors.\n",
    "- compute_loss (bool) – If True, computes and stores loss value which can be retrieved using model.get_latest_training_loss().\n",
    "- workers (int) – Use these many worker threads to train the model (=faster training with multicore machines).\n",
    "\n",
    "Defaults:\n",
    "```class gensim.models.word2vec.Word2Vec(sentences=None, size=100, alpha=0.025, window=5, min_count=5, max_vocab_size=None, sample=0.001, seed=1, workers=3, min_alpha=0.0001, sg=0, hs=0, negative=5, cbow_mean=1, hashfxn=<built-in function hash>, iter=5, null_word=0, trim_rule=None, sorted_vocab=1, batch_words=10000, compute_loss=False, callbacks=())```"
   ]
  },
  {
   "cell_type": "code",
   "execution_count": 16,
   "metadata": {},
   "outputs": [],
   "source": [
    "def accuracy(model):\n",
    "    accuracy = model.wv.accuracy('../txt/questions-geography-ka.txt')\n",
    "    sum_corr = len(accuracy[-1]['correct'])\n",
    "    sum_incorr = len(accuracy[-1]['incorrect'])\n",
    "    total = sum_corr + sum_incorr\n",
    "    percent = lambda a: a / total * 100 if total != 0 else 0\n",
    "    print('- TS: {}, Correct: {:.4f}%, Incorrect: {:.4f}%'.format(total, percent(sum_corr), percent(sum_incorr)))\n",
    "    return percent(sum_corr)"
   ]
  },
  {
   "cell_type": "code",
   "execution_count": 17,
   "metadata": {},
   "outputs": [],
   "source": [
    "from contextlib import contextmanager\n",
    "import time\n",
    "@contextmanager\n",
    "def timeit(s):\n",
    "    start = time.time()\n",
    "    yield\n",
    "    print(f\"[{time.time()-start:3.0f}s] {s}\\n\\n\")"
   ]
  },
  {
   "cell_type": "code",
   "execution_count": 27,
   "metadata": {},
   "outputs": [
    {
     "name": "stdout",
     "output_type": "stream",
     "text": [
      "- TS: 1265, Correct: 38.5771%, Incorrect: 61.4229%\n",
      "[129s]  Done.\n",
      "\n",
      "\n"
     ]
    }
   ],
   "source": [
    "with timeit(f\" Done.\"):\n",
    "    model = gensim.models.Word2Vec(tokens, size=200, min_count=8, window=16, workers=12)\n",
    "    model.train(tokens, total_examples=len(tokens), epochs=10)\n",
    "    accuracy(model)"
   ]
  },
  {
   "cell_type": "code",
   "execution_count": 28,
   "metadata": {},
   "outputs": [
    {
     "name": "stdout",
     "output_type": "stream",
     "text": [
      "- TS: 1265, Correct: 38.5771%, Incorrect: 61.4229%\n"
     ]
    },
    {
     "data": {
      "text/plain": [
       "38.57707509881423"
      ]
     },
     "execution_count": 28,
     "metadata": {},
     "output_type": "execute_result"
    }
   ],
   "source": [
    "accuracy(model)"
   ]
  },
  {
   "cell_type": "markdown",
   "metadata": {},
   "source": [
    "### Hyperparameter tuning"
   ]
  },
  {
   "cell_type": "code",
   "execution_count": 251,
   "metadata": {},
   "outputs": [],
   "source": [
    "# Store results in global variable\n",
    "results = []"
   ]
  },
  {
   "cell_type": "code",
   "execution_count": null,
   "metadata": {},
   "outputs": [],
   "source": [
    "d = 200\n",
    "mc = 100\n",
    "w = 20\n",
    "\n",
    "dims = [50,100,200,300]\n",
    "mincounts = [2, 8, 16, 64]\n",
    "windows = [2, 4, 8, 16, 32]\n",
    "\n",
    "pbar = tqdm(total=len(dims)*len(mincounts)*len(windows))\n",
    "\n",
    "for i,d in enumerate(dims):\n",
    "    for j,mc in enumerate(mincounts):\n",
    "        for k,w in enumerate(windows):\n",
    "            pbar.update(1)\n",
    "            with timeit(f\"[S:{d} MC:{mc} W:{w}] Model training complete.\"):\n",
    "                model = gensim.models.Word2Vec(tokens, size=d, min_count=mc, window=w, workers=12, compute_loss=True)\n",
    "                model.train(tokens, total_examples=len(tokens), epochs=10)\n",
    "                acc = accuracy(model)\n",
    "                print(f\"- Vocab size:{len(model.wv.vocab)}\\n- Compute Loss: {model.get_latest_training_loss()}\")\n",
    "                results.append({\n",
    "                    'size':d,\n",
    "                    'min_count':mc,\n",
    "                    'window':w,\n",
    "                    'vocab':len(model.wv.vocab),\n",
    "                    'accuracy':acc,\n",
    "                    'loss':model.get_latest_training_loss()\n",
    "                })\n",
    "                \n",
    "pbar.close()"
   ]
  },
  {
   "cell_type": "code",
   "execution_count": 21,
   "metadata": {},
   "outputs": [
    {
     "data": {
      "text/html": [
       "<div>\n",
       "<style scoped>\n",
       "    .dataframe tbody tr th:only-of-type {\n",
       "        vertical-align: middle;\n",
       "    }\n",
       "\n",
       "    .dataframe tbody tr th {\n",
       "        vertical-align: top;\n",
       "    }\n",
       "\n",
       "    .dataframe thead th {\n",
       "        text-align: right;\n",
       "    }\n",
       "</style>\n",
       "<table border=\"1\" class=\"dataframe\">\n",
       "  <thead>\n",
       "    <tr style=\"text-align: right;\">\n",
       "      <th></th>\n",
       "      <th>accuracy</th>\n",
       "      <th>loss</th>\n",
       "      <th>min_count</th>\n",
       "      <th>size</th>\n",
       "      <th>vocab</th>\n",
       "      <th>window</th>\n",
       "    </tr>\n",
       "  </thead>\n",
       "  <tbody>\n",
       "    <tr>\n",
       "      <th>0</th>\n",
       "      <td>40.487062</td>\n",
       "      <td>0.0</td>\n",
       "      <td>64</td>\n",
       "      <td>300</td>\n",
       "      <td>22082</td>\n",
       "      <td>16</td>\n",
       "    </tr>\n",
       "    <tr>\n",
       "      <th>1</th>\n",
       "      <td>40.316206</td>\n",
       "      <td>0.0</td>\n",
       "      <td>8</td>\n",
       "      <td>200</td>\n",
       "      <td>112549</td>\n",
       "      <td>16</td>\n",
       "    </tr>\n",
       "    <tr>\n",
       "      <th>2</th>\n",
       "      <td>39.762846</td>\n",
       "      <td>0.0</td>\n",
       "      <td>8</td>\n",
       "      <td>200</td>\n",
       "      <td>112549</td>\n",
       "      <td>8</td>\n",
       "    </tr>\n",
       "    <tr>\n",
       "      <th>3</th>\n",
       "      <td>39.573820</td>\n",
       "      <td>0.0</td>\n",
       "      <td>64</td>\n",
       "      <td>200</td>\n",
       "      <td>22082</td>\n",
       "      <td>8</td>\n",
       "    </tr>\n",
       "    <tr>\n",
       "      <th>4</th>\n",
       "      <td>39.573820</td>\n",
       "      <td>0.0</td>\n",
       "      <td>64</td>\n",
       "      <td>300</td>\n",
       "      <td>22082</td>\n",
       "      <td>8</td>\n",
       "    </tr>\n",
       "  </tbody>\n",
       "</table>\n",
       "</div>"
      ],
      "text/plain": [
       "    accuracy  loss  min_count  size   vocab  window\n",
       "0  40.487062   0.0         64   300   22082      16\n",
       "1  40.316206   0.0          8   200  112549      16\n",
       "2  39.762846   0.0          8   200  112549       8\n",
       "3  39.573820   0.0         64   200   22082       8\n",
       "4  39.573820   0.0         64   300   22082       8"
      ]
     },
     "execution_count": 21,
     "metadata": {},
     "output_type": "execute_result"
    }
   ],
   "source": [
    "import pandas as pd\n",
    "# df = pd.DataFrame(results)\n",
    "df.to_csv(\"results.csv\", index=False)\n",
    "df = pd.read_csv(\"results.csv\").sort_values(\"accuracy\", ascending=False)\n",
    "df.head()"
   ]
  },
  {
   "cell_type": "code",
   "execution_count": null,
   "metadata": {},
   "outputs": [],
   "source": []
  },
  {
   "cell_type": "markdown",
   "metadata": {},
   "source": [
    "### Model testing"
   ]
  },
  {
   "cell_type": "code",
   "execution_count": 228,
   "metadata": {},
   "outputs": [
    {
     "data": {
      "text/plain": [
       "[('რქაწითელი', 0.8808282613754272),\n",
       " ('ციცქა', 0.867584228515625),\n",
       " ('კრახუნა', 0.860209584236145),\n",
       " ('ცოლიკოური', 0.8515080213546753),\n",
       " ('ქინძმარაული', 0.8172898888587952)]"
      ]
     },
     "execution_count": 228,
     "metadata": {},
     "output_type": "execute_result"
    }
   ],
   "source": [
    "w1 = ['საფერავი']\n",
    "model.wv.most_similar(positive=w1, topn=5)"
   ]
  },
  {
   "cell_type": "code",
   "execution_count": 237,
   "metadata": {},
   "outputs": [
    {
     "data": {
      "text/plain": [
       "[('მერჩულეს', 0.5412800312042236),\n",
       " ('დანელიას', 0.509667694568634),\n",
       " ('მერჩულიულნის', 0.4998641908168793),\n",
       " ('ბრწყინვალის', 0.4979133605957031),\n",
       " ('მთაწმიდელის', 0.48206937313079834),\n",
       " ('ასანიშვილი', 0.4561194181442261),\n",
       " ('სააკაძე', 0.45581313967704773),\n",
       " ('მერჩულე', 0.4496610760688782),\n",
       " ('მთაწმიდლის', 0.446776807308197),\n",
       " ('პერანგითა', 0.4463770389556885)]"
      ]
     },
     "execution_count": 237,
     "metadata": {},
     "output_type": "execute_result"
    }
   ],
   "source": [
    "w1 = ['გიორგი', 'აღმაშენებელი']\n",
    "w2 = ['დავით']\n",
    "model.wv.most_similar(positive=w1, negative=w2, topn=10)"
   ]
  },
  {
   "cell_type": "code",
   "execution_count": 207,
   "metadata": {},
   "outputs": [],
   "source": [
    "def analogie(a, b, c, model, **kwargs):\n",
    "    return model.wv.most_similar(positive=[b,c], negative=[a], **kwargs)"
   ]
  },
  {
   "cell_type": "code",
   "execution_count": 239,
   "metadata": {},
   "outputs": [
    {
     "data": {
      "text/plain": [
       "[('უკრაინა', 0.5557381510734558), ('პოლტავა', 0.5374630093574524)]"
      ]
     },
     "execution_count": 239,
     "metadata": {},
     "output_type": "execute_result"
    }
   ],
   "source": [
    "analogie(\"თბილისი\", \"საქართველო\", \"კიევი\", model, topn=2)"
   ]
  },
  {
   "cell_type": "code",
   "execution_count": 249,
   "metadata": {},
   "outputs": [
    {
     "data": {
      "text/plain": [
       "[('ლურჯი', 0.45027443766593933), ('სალაკა', 0.44323498010635376)]"
      ]
     },
     "execution_count": 249,
     "metadata": {},
     "output_type": "execute_result"
    }
   ],
   "source": [
    "analogie(\"ცა\", \"ცისფერი\", \"ზღვა\", model, topn=2)"
   ]
  },
  {
   "cell_type": "markdown",
   "metadata": {},
   "source": [
    "### Persist model\n",
    "- and export as .tsv for http://projector.tensorflow.org/"
   ]
  },
  {
   "cell_type": "code",
   "execution_count": 145,
   "metadata": {},
   "outputs": [
    {
     "name": "stdout",
     "output_type": "stream",
     "text": [
      "[ 11s] Model saved\n",
      "\n",
      "\n"
     ]
    }
   ],
   "source": [
    "with timeit(\"Model saved\"):\n",
    "    model.save(\"../model/kawiki_1250MB\")"
   ]
  },
  {
   "cell_type": "code",
   "execution_count": 23,
   "metadata": {},
   "outputs": [],
   "source": [
    "def word2vec2tensor(model, tensor_filename, binary=False):\n",
    "    outfiletsv = tensor_filename + '_tensor.tsv'\n",
    "    outfiletsvmeta = tensor_filename + '_metadata.tsv'\n",
    "\n",
    "    with open(outfiletsv, 'w+', encoding='utf-8') as file_vector:\n",
    "        with open(outfiletsvmeta, 'w+', encoding='utf-8') as file_metadata:\n",
    "            file_metadata.write('word\\tcount\\n')\n",
    "            for word in tqdm(model.wv.index2word):\n",
    "                wordstring = gensim.utils.to_utf8(word).decode(\"utf-8\")\n",
    "                countstring = str(model.wv.vocab[word].count)\n",
    "                file_metadata.write(wordstring + '\\t' + countstring + '\\n')\n",
    "                vector_row = '\\t'.join(str(x) for x in model.wv[word])\n",
    "                file_vector.write(vector_row + '\\n')"
   ]
  },
  {
   "cell_type": "code",
   "execution_count": 24,
   "metadata": {},
   "outputs": [
    {
     "name": "stderr",
     "output_type": "stream",
     "text": [
      "100%|███████████████████████████████████████████████████████████████████████████████████████████████████████████████████████████████████████████████████████████████| 22082/22082 [00:03<00:00, 5951.90it/s]\n"
     ]
    }
   ],
   "source": [
    "word2vec2tensor(model,\"../tsv/kawiki_small\")"
   ]
  },
  {
   "cell_type": "code",
   "execution_count": null,
   "metadata": {},
   "outputs": [],
   "source": []
  }
 ],
 "metadata": {
  "kernelspec": {
   "display_name": "Python 3",
   "language": "python",
   "name": "python3"
  },
  "language_info": {
   "codemirror_mode": {
    "name": "ipython",
    "version": 3
   },
   "file_extension": ".py",
   "mimetype": "text/x-python",
   "name": "python",
   "nbconvert_exporter": "python",
   "pygments_lexer": "ipython3",
   "version": "3.6.4"
  }
 },
 "nbformat": 4,
 "nbformat_minor": 2
}
