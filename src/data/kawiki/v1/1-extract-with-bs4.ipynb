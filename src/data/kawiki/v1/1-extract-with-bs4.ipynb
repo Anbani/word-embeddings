{
 "cells": [
  {
   "cell_type": "markdown",
   "metadata": {},
   "source": [
    "# Extract from Wikipedia Dump\n",
    "\n",
    "- Download from https://dumps.wikimedia.org/kawiki/latest/kawiki-latest-pages-articles-multistream.xml.bz2\n",
    "- Unzip with `bzip2 -dk embeddings/data/raw/kawiki-20220520-pages-articles-multistream.xml.bz2`\n",
    "- Proceed with BS4\n",
    "\n",
    "\n",
    "> Alternatively use WikiExtractor which doesn't produce clean results. 1/4 of articles were empty. Example: https://ka.wikipedia.org/wiki?curid=610"
   ]
  },
  {
   "cell_type": "code",
   "execution_count": 1,
   "metadata": {},
   "outputs": [
    {
     "name": "stdout",
     "output_type": "stream",
     "text": [
      "INFO: Pandarallel will run on 6 workers.\n",
      "INFO: Pandarallel will use Memory file system to transfer data between the main process and workers.\n"
     ]
    }
   ],
   "source": [
    "import pandas as pd\n",
    "# import xml.etree.ElementTree as ET\n",
    "from bs4 import BeautifulSoup\n",
    "import wikitextparser as wtp\n",
    "from tqdm import tqdm\n",
    "from pandarallel import pandarallel\n",
    "\n",
    "pandarallel.initialize(progress_bar=True, nb_workers=6)\n"
   ]
  },
  {
   "cell_type": "code",
   "execution_count": 2,
   "metadata": {},
   "outputs": [],
   "source": [
    "dump = open(\"../raw/kawiki-20220520-pages-articles-multistream.xml\",\"r\")\n",
    "contents = dump.read()\n",
    "soup = BeautifulSoup(contents,'xml')"
   ]
  },
  {
   "cell_type": "code",
   "execution_count": 3,
   "metadata": {},
   "outputs": [
    {
     "name": "stdout",
     "output_type": "stream",
     "text": [
      "320745\n"
     ]
    }
   ],
   "source": [
    "pages = soup.find_all('page')\n",
    "print(len(pages))"
   ]
  },
  {
   "cell_type": "code",
   "execution_count": 11,
   "metadata": {},
   "outputs": [
    {
     "data": {
      "text/plain": [
       "True"
      ]
     },
     "execution_count": 11,
     "metadata": {},
     "output_type": "execute_result"
    }
   ],
   "source": [
    "pages[1500].find('ns').text == '0'"
   ]
  },
  {
   "cell_type": "code",
   "execution_count": 12,
   "metadata": {},
   "outputs": [
    {
     "name": "stderr",
     "output_type": "stream",
     "text": [
      "100%|██████████| 320745/320745 [00:31<00:00, 10115.94it/s]\n"
     ]
    }
   ],
   "source": [
    "kawiki = []\n",
    "for page in tqdm(pages):\n",
    "    # Extract only the mainspace/article namespace\n",
    "    if page.find(\"ns\").text != '0':\n",
    "        continue\n",
    "    \n",
    "    wiki = {\n",
    "        \n",
    "        'id' : page.find('id').text,\n",
    "        'ts' : page.find('timestamp').text,\n",
    "        'title': page.find('title').text,\n",
    "        'author': page.find('contributor').find('username').text if page.find('contributor').find('username') != None else page.find('contributor').find('ip').text,\n",
    "        'text': page.find('text').text,\n",
    "        'sha1': page.find('sha1').text,\n",
    "    }\n",
    "\n",
    "    kawiki.append(wiki)\n",
    "\n",
    "kawiki = pd.DataFrame(kawiki)"
   ]
  },
  {
   "cell_type": "code",
   "execution_count": 13,
   "metadata": {},
   "outputs": [
    {
     "data": {
      "text/html": [
       "<div>\n",
       "<style scoped>\n",
       "    .dataframe tbody tr th:only-of-type {\n",
       "        vertical-align: middle;\n",
       "    }\n",
       "\n",
       "    .dataframe tbody tr th {\n",
       "        vertical-align: top;\n",
       "    }\n",
       "\n",
       "    .dataframe thead th {\n",
       "        text-align: right;\n",
       "    }\n",
       "</style>\n",
       "<table border=\"1\" class=\"dataframe\">\n",
       "  <thead>\n",
       "    <tr style=\"text-align: right;\">\n",
       "      <th></th>\n",
       "      <th>id</th>\n",
       "      <th>ts</th>\n",
       "      <th>title</th>\n",
       "      <th>author</th>\n",
       "      <th>text</th>\n",
       "      <th>sha1</th>\n",
       "    </tr>\n",
       "  </thead>\n",
       "  <tbody>\n",
       "    <tr>\n",
       "      <th>0</th>\n",
       "      <td>604</td>\n",
       "      <td>2022-04-15T07:50:59Z</td>\n",
       "      <td>ედუარდ შევარდნაძე</td>\n",
       "      <td>Melberg</td>\n",
       "      <td>{{ინფოდაფა ლიდერი\\n| სახელი = ედუარდ შევარდნაძ...</td>\n",
       "      <td>k4tckhizmxggllhid4m0uob0nmwbu0h</td>\n",
       "    </tr>\n",
       "    <tr>\n",
       "      <th>1</th>\n",
       "      <td>608</td>\n",
       "      <td>2020-12-01T07:15:40Z</td>\n",
       "      <td>1 იანვარი</td>\n",
       "      <td>Namdvili</td>\n",
       "      <td>{{კალ|{{CURRENTYEAR}}|1}}\\n'''1 იანვარი''' — [...</td>\n",
       "      <td>9hua4ulox6vj429j2nbx3404fylhw5t</td>\n",
       "    </tr>\n",
       "    <tr>\n",
       "      <th>2</th>\n",
       "      <td>609</td>\n",
       "      <td>2020-01-18T07:59:48Z</td>\n",
       "      <td>25 იანვარი</td>\n",
       "      <td>95.104.15.233</td>\n",
       "      <td>{{კალ|{{CURRENTYEAR}}|1}}\\n'''25 იანვარი''' — ...</td>\n",
       "      <td>nburza2tu9lqypz9cirawwpcg3s7e8z</td>\n",
       "    </tr>\n",
       "    <tr>\n",
       "      <th>3</th>\n",
       "      <td>610</td>\n",
       "      <td>2021-11-08T19:32:05Z</td>\n",
       "      <td>1928</td>\n",
       "      <td>Arkaitz1974</td>\n",
       "      <td>{{წელი|{{PAGENAME}}}}\\n== მოვლენები ==\\n* [[11...</td>\n",
       "      <td>g2uj2d76l6yrbtu1p4wvmnx7vacz64z</td>\n",
       "    </tr>\n",
       "    <tr>\n",
       "      <th>4</th>\n",
       "      <td>823</td>\n",
       "      <td>2022-05-09T20:01:56Z</td>\n",
       "      <td>საქართველო</td>\n",
       "      <td>GiorgiXIII</td>\n",
       "      <td>{{მმ}}\\n{{ინფოდაფა ქვეყანა2\\n|ვირტუალური სახელ...</td>\n",
       "      <td>9kmab2upb1nr0ad1ywgr6ldl787kyo3</td>\n",
       "    </tr>\n",
       "    <tr>\n",
       "      <th>...</th>\n",
       "      <td>...</td>\n",
       "      <td>...</td>\n",
       "      <td>...</td>\n",
       "      <td>...</td>\n",
       "      <td>...</td>\n",
       "      <td>...</td>\n",
       "    </tr>\n",
       "    <tr>\n",
       "      <th>207439</th>\n",
       "      <td>532938</td>\n",
       "      <td>2022-05-20T04:35:44Z</td>\n",
       "      <td>ვახტანგ რობაქიძე</td>\n",
       "      <td>Jaba1977</td>\n",
       "      <td>ვახტანგ რობაქიძე (მოსამართლეობის კანდიდატი) და...</td>\n",
       "      <td>iavvdscaounfaz6sqowhc2ogsvp4u0l</td>\n",
       "    </tr>\n",
       "    <tr>\n",
       "      <th>207440</th>\n",
       "      <td>532939</td>\n",
       "      <td>2022-05-20T08:54:31Z</td>\n",
       "      <td>ნინა კარპაჩოვა</td>\n",
       "      <td>Ekkatterrinna</td>\n",
       "      <td>{{ინფოდაფა პიროვნება|name_color=white|back_col...</td>\n",
       "      <td>m955153juz99zg6n3e4pphtna8s6f8t</td>\n",
       "    </tr>\n",
       "    <tr>\n",
       "      <th>207441</th>\n",
       "      <td>532941</td>\n",
       "      <td>2022-05-19T23:20:41Z</td>\n",
       "      <td>Los Williames</td>\n",
       "      <td>185.225.28.38</td>\n",
       "      <td>[[File:Risitas.jpg|220px]]</td>\n",
       "      <td>dagmtfb81asi3gnehcjfw5l1fhj4f0i</td>\n",
       "    </tr>\n",
       "    <tr>\n",
       "      <th>207442</th>\n",
       "      <td>532947</td>\n",
       "      <td>2022-05-20T08:27:24Z</td>\n",
       "      <td>ჰაილბრონის აჩრდილი</td>\n",
       "      <td>Lisztomaniac</td>\n",
       "      <td>{{მოკლე აღწერა|ნავარაუდევი სერიული მკვლელი ქალ...</td>\n",
       "      <td>6sgtfdyggb9svx8whe22owjhwkm8fia</td>\n",
       "    </tr>\n",
       "    <tr>\n",
       "      <th>207443</th>\n",
       "      <td>532948</td>\n",
       "      <td>2022-05-20T08:24:16Z</td>\n",
       "      <td>გიორგი ელიაძე</td>\n",
       "      <td>Abazadze</td>\n",
       "      <td>'''გიორგი ელიაძე''' (დ. [[27 მარტი]], [[1952]]...</td>\n",
       "      <td>3xpljs8znlst341ui03q3s7ldfipdjc</td>\n",
       "    </tr>\n",
       "  </tbody>\n",
       "</table>\n",
       "<p>207444 rows × 6 columns</p>\n",
       "</div>"
      ],
      "text/plain": [
       "            id                    ts               title         author  \\\n",
       "0          604  2022-04-15T07:50:59Z   ედუარდ შევარდნაძე        Melberg   \n",
       "1          608  2020-12-01T07:15:40Z           1 იანვარი       Namdvili   \n",
       "2          609  2020-01-18T07:59:48Z          25 იანვარი  95.104.15.233   \n",
       "3          610  2021-11-08T19:32:05Z                1928    Arkaitz1974   \n",
       "4          823  2022-05-09T20:01:56Z          საქართველო     GiorgiXIII   \n",
       "...        ...                   ...                 ...            ...   \n",
       "207439  532938  2022-05-20T04:35:44Z    ვახტანგ რობაქიძე       Jaba1977   \n",
       "207440  532939  2022-05-20T08:54:31Z      ნინა კარპაჩოვა  Ekkatterrinna   \n",
       "207441  532941  2022-05-19T23:20:41Z       Los Williames  185.225.28.38   \n",
       "207442  532947  2022-05-20T08:27:24Z  ჰაილბრონის აჩრდილი   Lisztomaniac   \n",
       "207443  532948  2022-05-20T08:24:16Z       გიორგი ელიაძე       Abazadze   \n",
       "\n",
       "                                                     text  \\\n",
       "0       {{ინფოდაფა ლიდერი\\n| სახელი = ედუარდ შევარდნაძ...   \n",
       "1       {{კალ|{{CURRENTYEAR}}|1}}\\n'''1 იანვარი''' — [...   \n",
       "2       {{კალ|{{CURRENTYEAR}}|1}}\\n'''25 იანვარი''' — ...   \n",
       "3       {{წელი|{{PAGENAME}}}}\\n== მოვლენები ==\\n* [[11...   \n",
       "4       {{მმ}}\\n{{ინფოდაფა ქვეყანა2\\n|ვირტუალური სახელ...   \n",
       "...                                                   ...   \n",
       "207439  ვახტანგ რობაქიძე (მოსამართლეობის კანდიდატი) და...   \n",
       "207440  {{ინფოდაფა პიროვნება|name_color=white|back_col...   \n",
       "207441                         [[File:Risitas.jpg|220px]]   \n",
       "207442  {{მოკლე აღწერა|ნავარაუდევი სერიული მკვლელი ქალ...   \n",
       "207443  '''გიორგი ელიაძე''' (დ. [[27 მარტი]], [[1952]]...   \n",
       "\n",
       "                                   sha1  \n",
       "0       k4tckhizmxggllhid4m0uob0nmwbu0h  \n",
       "1       9hua4ulox6vj429j2nbx3404fylhw5t  \n",
       "2       nburza2tu9lqypz9cirawwpcg3s7e8z  \n",
       "3       g2uj2d76l6yrbtu1p4wvmnx7vacz64z  \n",
       "4       9kmab2upb1nr0ad1ywgr6ldl787kyo3  \n",
       "...                                 ...  \n",
       "207439  iavvdscaounfaz6sqowhc2ogsvp4u0l  \n",
       "207440  m955153juz99zg6n3e4pphtna8s6f8t  \n",
       "207441  dagmtfb81asi3gnehcjfw5l1fhj4f0i  \n",
       "207442  6sgtfdyggb9svx8whe22owjhwkm8fia  \n",
       "207443  3xpljs8znlst341ui03q3s7ldfipdjc  \n",
       "\n",
       "[207444 rows x 6 columns]"
      ]
     },
     "execution_count": 13,
     "metadata": {},
     "output_type": "execute_result"
    }
   ],
   "source": [
    "kawiki"
   ]
  },
  {
   "cell_type": "code",
   "execution_count": 14,
   "metadata": {},
   "outputs": [
    {
     "data": {
      "application/vnd.jupyter.widget-view+json": {
       "model_id": "3085d72320ff48749e9730e2063ee7f6",
       "version_major": 2,
       "version_minor": 0
      },
      "text/plain": [
       "VBox(children=(HBox(children=(IntProgress(value=0, description='0.00%', max=34574), Label(value='0 / 34574')))…"
      ]
     },
     "metadata": {},
     "output_type": "display_data"
    }
   ],
   "source": [
    "kawiki['text'] = kawiki['text'].parallel_apply(lambda row: wtp.remove_markup(row))\n",
    "kawiki['isRedirection'] = kawiki.text.str.startswith('#გადამისამართება') | kawiki.text.str.startswith('#REDIRECT')"
   ]
  },
  {
   "cell_type": "code",
   "execution_count": 15,
   "metadata": {},
   "outputs": [
    {
     "data": {
      "text/plain": [
       "46423"
      ]
     },
     "execution_count": 15,
     "metadata": {},
     "output_type": "execute_result"
    }
   ],
   "source": [
    "kawiki.isRedirection.sum()"
   ]
  },
  {
   "cell_type": "code",
   "execution_count": 16,
   "metadata": {},
   "outputs": [
    {
     "data": {
      "text/html": [
       "<div>\n",
       "<style scoped>\n",
       "    .dataframe tbody tr th:only-of-type {\n",
       "        vertical-align: middle;\n",
       "    }\n",
       "\n",
       "    .dataframe tbody tr th {\n",
       "        vertical-align: top;\n",
       "    }\n",
       "\n",
       "    .dataframe thead th {\n",
       "        text-align: right;\n",
       "    }\n",
       "</style>\n",
       "<table border=\"1\" class=\"dataframe\">\n",
       "  <thead>\n",
       "    <tr style=\"text-align: right;\">\n",
       "      <th></th>\n",
       "      <th>id</th>\n",
       "      <th>ts</th>\n",
       "      <th>title</th>\n",
       "      <th>author</th>\n",
       "      <th>text</th>\n",
       "      <th>sha1</th>\n",
       "      <th>isRedirection</th>\n",
       "    </tr>\n",
       "  </thead>\n",
       "  <tbody>\n",
       "    <tr>\n",
       "      <th>0</th>\n",
       "      <td>604</td>\n",
       "      <td>2022-04-15T07:50:59Z</td>\n",
       "      <td>ედუარდ შევარდნაძე</td>\n",
       "      <td>Melberg</td>\n",
       "      <td>\\nედუარდ ამბროსის ძე შევარდნაძე (დ. 25 იანვარი...</td>\n",
       "      <td>k4tckhizmxggllhid4m0uob0nmwbu0h</td>\n",
       "      <td>False</td>\n",
       "    </tr>\n",
       "    <tr>\n",
       "      <th>1</th>\n",
       "      <td>608</td>\n",
       "      <td>2020-12-01T07:15:40Z</td>\n",
       "      <td>1 იანვარი</td>\n",
       "      <td>Namdvili</td>\n",
       "      <td>\\n1 იანვარი — გრიგორიანული კალენდრის პირველი დ...</td>\n",
       "      <td>9hua4ulox6vj429j2nbx3404fylhw5t</td>\n",
       "      <td>False</td>\n",
       "    </tr>\n",
       "    <tr>\n",
       "      <th>2</th>\n",
       "      <td>609</td>\n",
       "      <td>2020-01-18T07:59:48Z</td>\n",
       "      <td>25 იანვარი</td>\n",
       "      <td>95.104.15.233</td>\n",
       "      <td>\\n25 იანვარი — გრიგორიანული კალენდრის 25-ე დღე...</td>\n",
       "      <td>nburza2tu9lqypz9cirawwpcg3s7e8z</td>\n",
       "      <td>False</td>\n",
       "    </tr>\n",
       "    <tr>\n",
       "      <th>3</th>\n",
       "      <td>610</td>\n",
       "      <td>2021-11-08T19:32:05Z</td>\n",
       "      <td>1928</td>\n",
       "      <td>Arkaitz1974</td>\n",
       "      <td>\\n== მოვლენები ==\\n* 11 თებერვალი : შვეიცარიის...</td>\n",
       "      <td>g2uj2d76l6yrbtu1p4wvmnx7vacz64z</td>\n",
       "      <td>False</td>\n",
       "    </tr>\n",
       "    <tr>\n",
       "      <th>4</th>\n",
       "      <td>823</td>\n",
       "      <td>2022-05-09T20:01:56Z</td>\n",
       "      <td>საქართველო</td>\n",
       "      <td>GiorgiXIII</td>\n",
       "      <td>\\n\\nსაქართველო () — სახელმწიფო ევრაზიაში, კავკ...</td>\n",
       "      <td>9kmab2upb1nr0ad1ywgr6ldl787kyo3</td>\n",
       "      <td>False</td>\n",
       "    </tr>\n",
       "    <tr>\n",
       "      <th>...</th>\n",
       "      <td>...</td>\n",
       "      <td>...</td>\n",
       "      <td>...</td>\n",
       "      <td>...</td>\n",
       "      <td>...</td>\n",
       "      <td>...</td>\n",
       "      <td>...</td>\n",
       "    </tr>\n",
       "    <tr>\n",
       "      <th>207439</th>\n",
       "      <td>532938</td>\n",
       "      <td>2022-05-20T04:35:44Z</td>\n",
       "      <td>ვახტანგ რობაქიძე</td>\n",
       "      <td>Jaba1977</td>\n",
       "      <td>ვახტანგ რობაქიძე (მოსამართლეობის კანდიდატი) და...</td>\n",
       "      <td>iavvdscaounfaz6sqowhc2ogsvp4u0l</td>\n",
       "      <td>False</td>\n",
       "    </tr>\n",
       "    <tr>\n",
       "      <th>207440</th>\n",
       "      <td>532939</td>\n",
       "      <td>2022-05-20T08:54:31Z</td>\n",
       "      <td>ნინა კარპაჩოვა</td>\n",
       "      <td>Ekkatterrinna</td>\n",
       "      <td>\\n\\nნინა კარპაჩოვა (უკრ. Ні́на Іва́нівна Карпа...</td>\n",
       "      <td>m955153juz99zg6n3e4pphtna8s6f8t</td>\n",
       "      <td>False</td>\n",
       "    </tr>\n",
       "    <tr>\n",
       "      <th>207441</th>\n",
       "      <td>532941</td>\n",
       "      <td>2022-05-19T23:20:41Z</td>\n",
       "      <td>Los Williames</td>\n",
       "      <td>185.225.28.38</td>\n",
       "      <td>220px</td>\n",
       "      <td>dagmtfb81asi3gnehcjfw5l1fhj4f0i</td>\n",
       "      <td>False</td>\n",
       "    </tr>\n",
       "    <tr>\n",
       "      <th>207442</th>\n",
       "      <td>532947</td>\n",
       "      <td>2022-05-20T08:27:24Z</td>\n",
       "      <td>ჰაილბრონის აჩრდილი</td>\n",
       "      <td>Lisztomaniac</td>\n",
       "      <td>\\nthumb|right|250px|მემორიალური ნიშნული ოფიცერ...</td>\n",
       "      <td>6sgtfdyggb9svx8whe22owjhwkm8fia</td>\n",
       "      <td>False</td>\n",
       "    </tr>\n",
       "    <tr>\n",
       "      <th>207443</th>\n",
       "      <td>532948</td>\n",
       "      <td>2022-05-20T08:24:16Z</td>\n",
       "      <td>გიორგი ელიაძე</td>\n",
       "      <td>Abazadze</td>\n",
       "      <td>გიორგი ელიაძე (დ. 27 მარტი, 1952, რუსეთი) — ქა...</td>\n",
       "      <td>3xpljs8znlst341ui03q3s7ldfipdjc</td>\n",
       "      <td>False</td>\n",
       "    </tr>\n",
       "  </tbody>\n",
       "</table>\n",
       "<p>207444 rows × 7 columns</p>\n",
       "</div>"
      ],
      "text/plain": [
       "            id                    ts               title         author  \\\n",
       "0          604  2022-04-15T07:50:59Z   ედუარდ შევარდნაძე        Melberg   \n",
       "1          608  2020-12-01T07:15:40Z           1 იანვარი       Namdvili   \n",
       "2          609  2020-01-18T07:59:48Z          25 იანვარი  95.104.15.233   \n",
       "3          610  2021-11-08T19:32:05Z                1928    Arkaitz1974   \n",
       "4          823  2022-05-09T20:01:56Z          საქართველო     GiorgiXIII   \n",
       "...        ...                   ...                 ...            ...   \n",
       "207439  532938  2022-05-20T04:35:44Z    ვახტანგ რობაქიძე       Jaba1977   \n",
       "207440  532939  2022-05-20T08:54:31Z      ნინა კარპაჩოვა  Ekkatterrinna   \n",
       "207441  532941  2022-05-19T23:20:41Z       Los Williames  185.225.28.38   \n",
       "207442  532947  2022-05-20T08:27:24Z  ჰაილბრონის აჩრდილი   Lisztomaniac   \n",
       "207443  532948  2022-05-20T08:24:16Z       გიორგი ელიაძე       Abazadze   \n",
       "\n",
       "                                                     text  \\\n",
       "0       \\nედუარდ ამბროსის ძე შევარდნაძე (დ. 25 იანვარი...   \n",
       "1       \\n1 იანვარი — გრიგორიანული კალენდრის პირველი დ...   \n",
       "2       \\n25 იანვარი — გრიგორიანული კალენდრის 25-ე დღე...   \n",
       "3       \\n== მოვლენები ==\\n* 11 თებერვალი : შვეიცარიის...   \n",
       "4       \\n\\nსაქართველო () — სახელმწიფო ევრაზიაში, კავკ...   \n",
       "...                                                   ...   \n",
       "207439  ვახტანგ რობაქიძე (მოსამართლეობის კანდიდატი) და...   \n",
       "207440  \\n\\nნინა კარპაჩოვა (უკრ. Ні́на Іва́нівна Карпа...   \n",
       "207441                                              220px   \n",
       "207442  \\nthumb|right|250px|მემორიალური ნიშნული ოფიცერ...   \n",
       "207443  გიორგი ელიაძე (დ. 27 მარტი, 1952, რუსეთი) — ქა...   \n",
       "\n",
       "                                   sha1  isRedirection  \n",
       "0       k4tckhizmxggllhid4m0uob0nmwbu0h          False  \n",
       "1       9hua4ulox6vj429j2nbx3404fylhw5t          False  \n",
       "2       nburza2tu9lqypz9cirawwpcg3s7e8z          False  \n",
       "3       g2uj2d76l6yrbtu1p4wvmnx7vacz64z          False  \n",
       "4       9kmab2upb1nr0ad1ywgr6ldl787kyo3          False  \n",
       "...                                 ...            ...  \n",
       "207439  iavvdscaounfaz6sqowhc2ogsvp4u0l          False  \n",
       "207440  m955153juz99zg6n3e4pphtna8s6f8t          False  \n",
       "207441  dagmtfb81asi3gnehcjfw5l1fhj4f0i          False  \n",
       "207442  6sgtfdyggb9svx8whe22owjhwkm8fia          False  \n",
       "207443  3xpljs8znlst341ui03q3s7ldfipdjc          False  \n",
       "\n",
       "[207444 rows x 7 columns]"
      ]
     },
     "execution_count": 16,
     "metadata": {},
     "output_type": "execute_result"
    }
   ],
   "source": [
    "kawiki"
   ]
  },
  {
   "cell_type": "code",
   "execution_count": 13,
   "metadata": {},
   "outputs": [],
   "source": [
    "kawiki.to_csv(\"../raw/kawiki.csv\", index=None, encoding='utf-8')"
   ]
  },
  {
   "cell_type": "code",
   "execution_count": 28,
   "metadata": {},
   "outputs": [],
   "source": []
  }
 ],
 "metadata": {
  "interpreter": {
   "hash": "5ddfca89fb0ff7038606e5fd782b59d233ff8cbd5b2a6aabb29749a82eca2773"
  },
  "kernelspec": {
   "display_name": "Python 3.9.12 ('base')",
   "language": "python",
   "name": "python3"
  },
  "language_info": {
   "codemirror_mode": {
    "name": "ipython",
    "version": 3
   },
   "file_extension": ".py",
   "mimetype": "text/x-python",
   "name": "python",
   "nbconvert_exporter": "python",
   "pygments_lexer": "ipython3",
   "version": "3.9.12"
  },
  "orig_nbformat": 4
 },
 "nbformat": 4,
 "nbformat_minor": 2
}
