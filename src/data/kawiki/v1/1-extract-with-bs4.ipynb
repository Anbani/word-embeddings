{
 "cells": [
  {
   "cell_type": "markdown",
   "metadata": {},
   "source": [
    "# Wikipedia Dump\n",
    "\n",
    "As of 2022 Georgian Wikipedia dump weighs over 180 MB compressed (1.5 GB decompressed). Smaller but still linguistically quite rich corpus of just article abstracts is just 18 MB gzipped (233 MB decompressed). Both can be downloaded from https://dumps.wikimedia.org/kawiki/latest/. \n",
    "\n",
    "Texts can be extracted with either WikiExtractor library or full hands on with Beautiful Soup which produces cleaner results for Georgian."
   ]
  },
  {
   "cell_type": "code",
   "execution_count": 1,
   "metadata": {},
   "outputs": [
    {
     "name": "stdout",
     "output_type": "stream",
     "text": [
      "INFO: Pandarallel will run on 6 workers.\n",
      "INFO: Pandarallel will use Memory file system to transfer data between the main process and workers.\n"
     ]
    }
   ],
   "source": [
    "import pandas as pd\n",
    "from bs4 import BeautifulSoup\n",
    "import wikitextparser as wtp\n",
    "from tqdm import tqdm\n",
    "from pandarallel import pandarallel\n",
    "\n",
    "pandarallel.initialize(progress_bar=True, nb_workers=6)"
   ]
  },
  {
   "cell_type": "code",
   "execution_count": 10,
   "metadata": {},
   "outputs": [],
   "source": [
    "import gzip\n",
    "\n",
    "dump = gzip.open(\"../raw/kawiki-latest-abstract.xml.gz\", \"rt\")\n",
    "# dump = gzip.open(\"../raw/kawiki-20220520-pages-articles-multistream.xml.gz\", \"rb\")\n",
    "contents = dump.read()\n",
    "soup = BeautifulSoup(contents, 'xml')"
   ]
  },
  {
   "cell_type": "code",
   "execution_count": 12,
   "metadata": {},
   "outputs": [
    {
     "name": "stdout",
     "output_type": "stream",
     "text": [
      "<?xml version=\"1.0\" encoding=\"utf-8\"?>\n",
      "<feed>\n",
      " <doc>\n",
      "  <title>\n",
      "   ვიკიპედია: ედუარდ შევარდნაძე\n",
      "  </title>\n",
      "  <url>\n",
      "   https://ka.wikipedia.org/wiki/%E1%83%94%E1%83%93%E1%83%A3%E1%83%90%E1%83%A0%E1%83%93_%E1%83%A8%E1%83%94%E1%83%95%E1%83%90%E1%83%A0%E1%83%93%E1%83%9C%E1%83%90%E1%83%AB%E1%83%94\n",
      "  </url>\n",
      "  <abstract>\n",
      "   | დაბადების ადგილი= მამათი, ოზურგეთის მაზრა, საქართველოს სსრ\n",
      "  </abstract>\n",
      "  <links>\n",
      "   <sublink linktype=\"nav\">\n",
      "    <anchor>\n",
      "     ბიოგრაფია\n",
      "    </anchor>\n",
      "    <link>\n",
      "     https://ka.wikipedia.org/wiki/%E1%83%94%E1%83%93%E1%83%A3%E1%83%90%E1%83%A0%E1%83%93_%E1%83%A8%E1%83%94%E1%83%95%E1%83%90%E1%83%A0%E1%83%93%E1%83%9C%E1%83%90%E1%83%AB%E1%83%94#ბიოგრაფია\n",
      "    </link>\n",
      "   </sublink>\n",
      "   <sublink linktype=\"nav\">\n",
      "    <anchor>\n",
      "     ადრეული წლები და განათლება\n",
      "    </anchor>\n",
      "    <link>\n",
      "     https://ka.wikipedia.org/wiki/%E1%83%94%E1%83%93%E1%83%A3%E1%83%90%E1%83%A0%E1%83%93_%E1%83%A8%E1%83%94%E1%83%95%E1%83%90%E1%83%A0%E1%83%93%E1%83%9C%E1%83%90%E1%83%AB%E1%83%94#ადრეული_წლები_და_გან\n"
     ]
    }
   ],
   "source": [
    "print(soup.prettify()[:1000])"
   ]
  },
  {
   "cell_type": "code",
   "execution_count": 11,
   "metadata": {},
   "outputs": [
    {
     "name": "stdout",
     "output_type": "stream",
     "text": [
      "0\n"
     ]
    }
   ],
   "source": [
    "pages = soup.find_all('page')\n",
    "print(len(pages))"
   ]
  },
  {
   "cell_type": "code",
   "execution_count": 13,
   "metadata": {},
   "outputs": [
    {
     "name": "stdout",
     "output_type": "stream",
     "text": [
      "161032\n"
     ]
    }
   ],
   "source": [
    "pages = soup.find_all('doc')\n",
    "print(len(pages))"
   ]
  },
  {
   "cell_type": "code",
   "execution_count": 4,
   "metadata": {},
   "outputs": [
    {
     "name": "stderr",
     "output_type": "stream",
     "text": [
      "100%|██████████| 320745/320745 [00:42<00:00, 7480.00it/s]\n"
     ]
    }
   ],
   "source": [
    "kawiki = []\n",
    "for page in tqdm(pages):\n",
    "    # print(page)\n",
    "    wiki = {\n",
    "        \n",
    "        'id' : page.find('id').text,\n",
    "        'ts' : page.find('timestamp').text,\n",
    "        'title': page.find('title').text,\n",
    "        'author': page.find('contributor').find('username').text if page.find('contributor').find('username') != None else page.find('contributor').find('ip').text,\n",
    "        'text': page.find('text').text,\n",
    "        'sha1': page.find('sha1').text,\n",
    "    }\n",
    "\n",
    "    kawiki.append(wiki)\n",
    "\n",
    "kawiki = pd.DataFrame(kawiki)"
   ]
  },
  {
   "cell_type": "code",
   "execution_count": 12,
   "metadata": {},
   "outputs": [
    {
     "data": {
      "application/vnd.jupyter.widget-view+json": {
       "model_id": "57e469ce9fc7491da70639e889d976b5",
       "version_major": 2,
       "version_minor": 0
      },
      "text/plain": [
       "VBox(children=(HBox(children=(IntProgress(value=0, description='0.00%', max=53458), Label(value='0 / 53458')))…"
      ]
     },
     "metadata": {},
     "output_type": "display_data"
    }
   ],
   "source": [
    "kawiki['text'] = kawiki['text'].parallel_apply(lambda row: wtp.remove_markup(row))\n",
    "kawiki['isRedirection'] = kawiki.text.str.startswith('#გადამისამართება') | kawiki.text.str.startswith('#REDIRECT')"
   ]
  },
  {
   "cell_type": "code",
   "execution_count": 14,
   "metadata": {},
   "outputs": [
    {
     "data": {
      "text/html": [
       "<div>\n",
       "<style scoped>\n",
       "    .dataframe tbody tr th:only-of-type {\n",
       "        vertical-align: middle;\n",
       "    }\n",
       "\n",
       "    .dataframe tbody tr th {\n",
       "        vertical-align: top;\n",
       "    }\n",
       "\n",
       "    .dataframe thead th {\n",
       "        text-align: right;\n",
       "    }\n",
       "</style>\n",
       "<table border=\"1\" class=\"dataframe\">\n",
       "  <thead>\n",
       "    <tr style=\"text-align: right;\">\n",
       "      <th></th>\n",
       "      <th>id</th>\n",
       "      <th>ts</th>\n",
       "      <th>title</th>\n",
       "      <th>author</th>\n",
       "      <th>text</th>\n",
       "      <th>sha1</th>\n",
       "      <th>isRedirection</th>\n",
       "    </tr>\n",
       "  </thead>\n",
       "  <tbody>\n",
       "    <tr>\n",
       "      <th>0</th>\n",
       "      <td>2</td>\n",
       "      <td>2004-01-26T08:48:14Z</td>\n",
       "      <td>ვიკიპედია:Orphaned articles</td>\n",
       "      <td>204.95.98.251</td>\n",
       "      <td>&lt;a href=\"/wiki/Main_Page\" class='internal' tit...</td>\n",
       "      <td>ptlg4dsza52o10rnmk59f282y0fptzi</td>\n",
       "      <td>False</td>\n",
       "    </tr>\n",
       "    <tr>\n",
       "      <th>1</th>\n",
       "      <td>3</td>\n",
       "      <td>2004-01-26T00:26:51Z</td>\n",
       "      <td>ვიკიპედია:Most wanted articles</td>\n",
       "      <td>204.95.98.251</td>\n",
       "      <td></td>\n",
       "      <td>pezx7385o3910tfwsxb3suac2dw5g9i</td>\n",
       "      <td>False</td>\n",
       "    </tr>\n",
       "    <tr>\n",
       "      <th>2</th>\n",
       "      <td>4</td>\n",
       "      <td>2004-01-26T00:38:52Z</td>\n",
       "      <td>ვიკიპედია:Short articles</td>\n",
       "      <td>204.95.98.251</td>\n",
       "      <td>&lt;a href=\"/wiki/Main_Page\" class='internal' tit...</td>\n",
       "      <td>84gitu5sgfaec85yfccjzvl2kfafvn1</td>\n",
       "      <td>False</td>\n",
       "    </tr>\n",
       "    <tr>\n",
       "      <th>3</th>\n",
       "      <td>5</td>\n",
       "      <td>2004-01-26T00:35:44Z</td>\n",
       "      <td>ვიკიპედია:Long articles</td>\n",
       "      <td>204.95.98.251</td>\n",
       "      <td>&lt;a href=\"/wiki/Main_Page\" class='internal' tit...</td>\n",
       "      <td>84gitu5sgfaec85yfccjzvl2kfafvn1</td>\n",
       "      <td>False</td>\n",
       "    </tr>\n",
       "    <tr>\n",
       "      <th>4</th>\n",
       "      <td>7</td>\n",
       "      <td>2004-11-18T15:15:52Z</td>\n",
       "      <td>მედიავიკი:Category</td>\n",
       "      <td>Malafaya</td>\n",
       "      <td>კატეგორია</td>\n",
       "      <td>3k5d8zjv7h101jficinh3d2x5jjwtpw</td>\n",
       "      <td>False</td>\n",
       "    </tr>\n",
       "    <tr>\n",
       "      <th>...</th>\n",
       "      <td>...</td>\n",
       "      <td>...</td>\n",
       "      <td>...</td>\n",
       "      <td>...</td>\n",
       "      <td>...</td>\n",
       "      <td>...</td>\n",
       "      <td>...</td>\n",
       "    </tr>\n",
       "    <tr>\n",
       "      <th>320740</th>\n",
       "      <td>532938</td>\n",
       "      <td>2022-05-20T04:35:44Z</td>\n",
       "      <td>ვახტანგ რობაქიძე</td>\n",
       "      <td>Jaba1977</td>\n",
       "      <td>ვახტანგ რობაქიძე (მოსამართლეობის კანდიდატი) და...</td>\n",
       "      <td>iavvdscaounfaz6sqowhc2ogsvp4u0l</td>\n",
       "      <td>False</td>\n",
       "    </tr>\n",
       "    <tr>\n",
       "      <th>320741</th>\n",
       "      <td>532939</td>\n",
       "      <td>2022-05-20T08:54:31Z</td>\n",
       "      <td>ნინა კარპაჩოვა</td>\n",
       "      <td>Ekkatterrinna</td>\n",
       "      <td>\\n\\nნინა კარპაჩოვა (უკრ. Ні́на Іва́нівна Карпа...</td>\n",
       "      <td>m955153juz99zg6n3e4pphtna8s6f8t</td>\n",
       "      <td>False</td>\n",
       "    </tr>\n",
       "    <tr>\n",
       "      <th>320742</th>\n",
       "      <td>532941</td>\n",
       "      <td>2022-05-19T23:20:41Z</td>\n",
       "      <td>Los Williames</td>\n",
       "      <td>185.225.28.38</td>\n",
       "      <td>220px</td>\n",
       "      <td>dagmtfb81asi3gnehcjfw5l1fhj4f0i</td>\n",
       "      <td>False</td>\n",
       "    </tr>\n",
       "    <tr>\n",
       "      <th>320743</th>\n",
       "      <td>532947</td>\n",
       "      <td>2022-05-20T08:27:24Z</td>\n",
       "      <td>ჰაილბრონის აჩრდილი</td>\n",
       "      <td>Lisztomaniac</td>\n",
       "      <td>\\nthumb|right|250px|მემორიალური ნიშნული ოფიცერ...</td>\n",
       "      <td>6sgtfdyggb9svx8whe22owjhwkm8fia</td>\n",
       "      <td>False</td>\n",
       "    </tr>\n",
       "    <tr>\n",
       "      <th>320744</th>\n",
       "      <td>532948</td>\n",
       "      <td>2022-05-20T08:24:16Z</td>\n",
       "      <td>გიორგი ელიაძე</td>\n",
       "      <td>Abazadze</td>\n",
       "      <td>გიორგი ელიაძე (დ. 27 მარტი, 1952, რუსეთი) — ქა...</td>\n",
       "      <td>3xpljs8znlst341ui03q3s7ldfipdjc</td>\n",
       "      <td>False</td>\n",
       "    </tr>\n",
       "  </tbody>\n",
       "</table>\n",
       "<p>320745 rows × 7 columns</p>\n",
       "</div>"
      ],
      "text/plain": [
       "            id                    ts                           title  \\\n",
       "0            2  2004-01-26T08:48:14Z     ვიკიპედია:Orphaned articles   \n",
       "1            3  2004-01-26T00:26:51Z  ვიკიპედია:Most wanted articles   \n",
       "2            4  2004-01-26T00:38:52Z        ვიკიპედია:Short articles   \n",
       "3            5  2004-01-26T00:35:44Z         ვიკიპედია:Long articles   \n",
       "4            7  2004-11-18T15:15:52Z              მედიავიკი:Category   \n",
       "...        ...                   ...                             ...   \n",
       "320740  532938  2022-05-20T04:35:44Z                ვახტანგ რობაქიძე   \n",
       "320741  532939  2022-05-20T08:54:31Z                  ნინა კარპაჩოვა   \n",
       "320742  532941  2022-05-19T23:20:41Z                   Los Williames   \n",
       "320743  532947  2022-05-20T08:27:24Z              ჰაილბრონის აჩრდილი   \n",
       "320744  532948  2022-05-20T08:24:16Z                   გიორგი ელიაძე   \n",
       "\n",
       "               author                                               text  \\\n",
       "0       204.95.98.251  <a href=\"/wiki/Main_Page\" class='internal' tit...   \n",
       "1       204.95.98.251                                                      \n",
       "2       204.95.98.251  <a href=\"/wiki/Main_Page\" class='internal' tit...   \n",
       "3       204.95.98.251  <a href=\"/wiki/Main_Page\" class='internal' tit...   \n",
       "4            Malafaya                                          კატეგორია   \n",
       "...               ...                                                ...   \n",
       "320740       Jaba1977  ვახტანგ რობაქიძე (მოსამართლეობის კანდიდატი) და...   \n",
       "320741  Ekkatterrinna  \\n\\nნინა კარპაჩოვა (უკრ. Ні́на Іва́нівна Карпа...   \n",
       "320742  185.225.28.38                                              220px   \n",
       "320743   Lisztomaniac  \\nthumb|right|250px|მემორიალური ნიშნული ოფიცერ...   \n",
       "320744       Abazadze  გიორგი ელიაძე (დ. 27 მარტი, 1952, რუსეთი) — ქა...   \n",
       "\n",
       "                                   sha1  isRedirection  \n",
       "0       ptlg4dsza52o10rnmk59f282y0fptzi          False  \n",
       "1       pezx7385o3910tfwsxb3suac2dw5g9i          False  \n",
       "2       84gitu5sgfaec85yfccjzvl2kfafvn1          False  \n",
       "3       84gitu5sgfaec85yfccjzvl2kfafvn1          False  \n",
       "4       3k5d8zjv7h101jficinh3d2x5jjwtpw          False  \n",
       "...                                 ...            ...  \n",
       "320740  iavvdscaounfaz6sqowhc2ogsvp4u0l          False  \n",
       "320741  m955153juz99zg6n3e4pphtna8s6f8t          False  \n",
       "320742  dagmtfb81asi3gnehcjfw5l1fhj4f0i          False  \n",
       "320743  6sgtfdyggb9svx8whe22owjhwkm8fia          False  \n",
       "320744  3xpljs8znlst341ui03q3s7ldfipdjc          False  \n",
       "\n",
       "[320745 rows x 7 columns]"
      ]
     },
     "execution_count": 14,
     "metadata": {},
     "output_type": "execute_result"
    }
   ],
   "source": [
    "kawiki"
   ]
  },
  {
   "cell_type": "code",
   "execution_count": 13,
   "metadata": {},
   "outputs": [],
   "source": [
    "kawiki.to_csv(\"kawiki.csv\", index=None, encoding='utf-8')"
   ]
  },
  {
   "cell_type": "code",
   "execution_count": 28,
   "metadata": {},
   "outputs": [],
   "source": []
  }
 ],
 "metadata": {
  "interpreter": {
   "hash": "5ddfca89fb0ff7038606e5fd782b59d233ff8cbd5b2a6aabb29749a82eca2773"
  },
  "kernelspec": {
   "display_name": "Python 3.9.12 ('base')",
   "language": "python",
   "name": "python3"
  },
  "language_info": {
   "codemirror_mode": {
    "name": "ipython",
    "version": 3
   },
   "file_extension": ".py",
   "mimetype": "text/x-python",
   "name": "python",
   "nbconvert_exporter": "python",
   "pygments_lexer": "ipython3",
   "version": "3.9.12"
  },
  "orig_nbformat": 4
 },
 "nbformat": 4,
 "nbformat_minor": 2
}
