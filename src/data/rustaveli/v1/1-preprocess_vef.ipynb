{
 "cells": [
  {
   "cell_type": "code",
   "execution_count": 3,
   "metadata": {},
   "outputs": [
    {
     "name": "stdout",
     "output_type": "stream",
     "text": [
      "INFO: Pandarallel will run on 6 workers.\n",
      "INFO: Pandarallel will use Memory file system to transfer data between the main process and workers.\n"
     ]
    }
   ],
   "source": [
    "import re\n",
    "from collections import defaultdict\n",
    "from tqdm import tqdm\n",
    "import pandas as pd\n",
    "from pandarallel import pandarallel\n",
    "\n",
    "\n",
    "pandarallel.initialize(progress_bar=True, nb_workers=6)\n",
    "pd.options.display.max_rows = 200"
   ]
  },
  {
   "cell_type": "code",
   "execution_count": 4,
   "metadata": {},
   "outputs": [
    {
     "data": {
      "text/html": [
       "<div>\n",
       "<style scoped>\n",
       "    .dataframe tbody tr th:only-of-type {\n",
       "        vertical-align: middle;\n",
       "    }\n",
       "\n",
       "    .dataframe tbody tr th {\n",
       "        vertical-align: top;\n",
       "    }\n",
       "\n",
       "    .dataframe thead th {\n",
       "        text-align: right;\n",
       "    }\n",
       "</style>\n",
       "<table border=\"1\" class=\"dataframe\">\n",
       "  <thead>\n",
       "    <tr style=\"text-align: right;\">\n",
       "      <th></th>\n",
       "      <th>id</th>\n",
       "      <th>line</th>\n",
       "      <th>chapter</th>\n",
       "      <th>chapter_id</th>\n",
       "      <th>strophe_id</th>\n",
       "      <th>line_id</th>\n",
       "    </tr>\n",
       "  </thead>\n",
       "  <tbody>\n",
       "    <tr>\n",
       "      <th>0</th>\n",
       "      <td>1.1.1</td>\n",
       "      <td>რომელმან შექმნა სამყარო ძალითა მით ძლიერითა,</td>\n",
       "      <td>დასაწყისი</td>\n",
       "      <td>1</td>\n",
       "      <td>1</td>\n",
       "      <td>1</td>\n",
       "    </tr>\n",
       "    <tr>\n",
       "      <th>1</th>\n",
       "      <td>1.1.2</td>\n",
       "      <td>ზეგარდმო არსნი სულითა ყვნა ზეცით მონაბერითა,</td>\n",
       "      <td>დასაწყისი</td>\n",
       "      <td>1</td>\n",
       "      <td>1</td>\n",
       "      <td>2</td>\n",
       "    </tr>\n",
       "    <tr>\n",
       "      <th>2</th>\n",
       "      <td>1.1.3</td>\n",
       "      <td>ჩვენ, კაცთა, მოგვცა ქვეყანა, გვაქვს უთვალავი ფ...</td>\n",
       "      <td>დასაწყისი</td>\n",
       "      <td>1</td>\n",
       "      <td>1</td>\n",
       "      <td>3</td>\n",
       "    </tr>\n",
       "  </tbody>\n",
       "</table>\n",
       "</div>"
      ],
      "text/plain": [
       "      id                                               line    chapter  \\\n",
       "0  1.1.1       რომელმან შექმნა სამყარო ძალითა მით ძლიერითა,  დასაწყისი   \n",
       "1  1.1.2       ზეგარდმო არსნი სულითა ყვნა ზეცით მონაბერითა,  დასაწყისი   \n",
       "2  1.1.3  ჩვენ, კაცთა, მოგვცა ქვეყანა, გვაქვს უთვალავი ფ...  დასაწყისი   \n",
       "\n",
       "   chapter_id  strophe_id  line_id  \n",
       "0           1           1        1  \n",
       "1           1           1        2  \n",
       "2           1           1        3  "
      ]
     },
     "execution_count": 4,
     "metadata": {},
     "output_type": "execute_result"
    }
   ],
   "source": [
    "df = pd.read_csv(\"../raw/vef.csv\")\n",
    "\n",
    "df.head(3)"
   ]
  },
  {
   "cell_type": "markdown",
   "metadata": {},
   "source": [
    "# Minimal "
   ]
  },
  {
   "cell_type": "code",
   "execution_count": null,
   "metadata": {},
   "outputs": [],
   "source": [
    "with open(\"vef_full.txt\", \"w\") as fout:\n",
    "    fout.write(' '.join(df.line.values))"
   ]
  },
  {
   "cell_type": "code",
   "execution_count": null,
   "metadata": {},
   "outputs": [
    {
     "name": "stderr",
     "output_type": "stream",
     "text": [
      "100%|██████████| 65/65 [00:00<00:00, 1446.66it/s]\n"
     ]
    },
    {
     "data": {
      "text/plain": [
       "['დასაწყისი',\n",
       " 'რომელმან',\n",
       " 'შექმნა',\n",
       " 'სამყარო',\n",
       " 'ძალითა',\n",
       " 'მით',\n",
       " 'ძლიერითა',\n",
       " 'ზეგარდმო',\n",
       " 'არსნი',\n",
       " 'სულითა']"
      ]
     },
     "metadata": {},
     "output_type": "display_data"
    }
   ],
   "source": [
    "chapters = df.groupby('chapter_id')\n",
    "tokenCorpus = []\n",
    "\n",
    "for c in tqdm(df.chapter_id.unique()):\n",
    "    doc = chapters.get_group(c)\n",
    "    doc = doc.chapter.iloc[0] + ' ' + ' '.join(doc.line)\n",
    "    doc = doc.lower()\n",
    "    doc = re.sub(r\"[^Ⴀ-ჿⴀ-ⴥᲐ-Ჿ]\", ' ', doc)\n",
    "    doc = re.sub(r\"\\s+\", ' ', doc)\n",
    "    doc = doc.split(' ')\n",
    "    doc = [token for token in doc if token != '']\n",
    "    tokenCorpus.append(doc)\n",
    "\n",
    "tokenCorpus[0][:10]"
   ]
  },
  {
   "cell_type": "code",
   "execution_count": null,
   "metadata": {},
   "outputs": [
    {
     "name": "stderr",
     "output_type": "stream",
     "text": [
      "100%|██████████| 65/65 [00:00<00:00, 4757.94it/s]\n",
      "100%|██████████| 65/65 [00:00<00:00, 14929.62it/s]\n",
      "100%|██████████| 65/65 [00:00<00:00, 717446.74it/s]\n"
     ]
    }
   ],
   "source": [
    "wordfreq = defaultdict(int)\n",
    "\n",
    "for doc in tqdm(tokenCorpus):\n",
    "    for token in doc:\n",
    "        wordfreq[token] += 1\n",
    "\n",
    "tokenCorpus = [\n",
    "    [token for token in doc if len(token) > 1]\n",
    "    for doc in tqdm(tokenCorpus)\n",
    "]\n",
    "\n",
    "tokenCorpus = [doc for doc in tqdm(tokenCorpus) if len(doc) > 1]"
   ]
  },
  {
   "cell_type": "code",
   "execution_count": null,
   "metadata": {},
   "outputs": [
    {
     "name": "stderr",
     "output_type": "stream",
     "text": [
      "100%|██████████| 65/65 [00:00<00:00, 19196.58it/s]\n"
     ]
    }
   ],
   "source": [
    "with open(\"vef_corpus_chapter.txt\", \"w\") as file:\n",
    "    for doc in tqdm(tokenCorpus):\n",
    "        file.write(' '.join(doc) + '\\n')"
   ]
  },
  {
   "cell_type": "markdown",
   "metadata": {},
   "source": [
    "# Groupby Chapter"
   ]
  },
  {
   "cell_type": "code",
   "execution_count": 3,
   "metadata": {},
   "outputs": [
    {
     "name": "stderr",
     "output_type": "stream",
     "text": [
      "100%|██████████| 65/65 [00:00<00:00, 1446.66it/s]\n"
     ]
    },
    {
     "data": {
      "text/plain": [
       "['დასაწყისი',\n",
       " 'რომელმან',\n",
       " 'შექმნა',\n",
       " 'სამყარო',\n",
       " 'ძალითა',\n",
       " 'მით',\n",
       " 'ძლიერითა',\n",
       " 'ზეგარდმო',\n",
       " 'არსნი',\n",
       " 'სულითა']"
      ]
     },
     "execution_count": 3,
     "metadata": {},
     "output_type": "execute_result"
    }
   ],
   "source": [
    "chapters = df.groupby('chapter_id')\n",
    "tokenCorpus = []\n",
    "\n",
    "for c in tqdm(df.chapter_id.unique()):\n",
    "    doc = chapters.get_group(c)\n",
    "    doc = doc.chapter.iloc[0] + ' ' + ' '.join(doc.line)\n",
    "    doc = doc.lower()\n",
    "    doc = re.sub(r\"[^Ⴀ-ჿⴀ-ⴥᲐ-Ჿ]\", ' ', doc)\n",
    "    doc = re.sub(r\"\\s+\", ' ', doc)\n",
    "    doc = doc.split(' ')\n",
    "    doc = [token for token in doc if token != '']\n",
    "    tokenCorpus.append(doc)\n",
    "\n",
    "tokenCorpus[0][:10]"
   ]
  },
  {
   "cell_type": "code",
   "execution_count": 4,
   "metadata": {},
   "outputs": [
    {
     "name": "stderr",
     "output_type": "stream",
     "text": [
      "100%|██████████| 65/65 [00:00<00:00, 4757.94it/s]\n",
      "100%|██████████| 65/65 [00:00<00:00, 14929.62it/s]\n",
      "100%|██████████| 65/65 [00:00<00:00, 717446.74it/s]\n"
     ]
    }
   ],
   "source": [
    "wordfreq = defaultdict(int)\n",
    "\n",
    "for doc in tqdm(tokenCorpus):\n",
    "    for token in doc:\n",
    "        wordfreq[token] += 1\n",
    "\n",
    "tokenCorpus = [\n",
    "    [token for token in doc if len(token) > 1]\n",
    "    for doc in tqdm(tokenCorpus)\n",
    "]\n",
    "\n",
    "tokenCorpus = [doc for doc in tqdm(tokenCorpus) if len(doc) > 1]"
   ]
  },
  {
   "cell_type": "code",
   "execution_count": 5,
   "metadata": {},
   "outputs": [
    {
     "name": "stderr",
     "output_type": "stream",
     "text": [
      "100%|██████████| 65/65 [00:00<00:00, 19196.58it/s]\n"
     ]
    }
   ],
   "source": [
    "with open(\"vef_corpus_chapter.txt\", \"w\") as file:\n",
    "    for doc in tqdm(tokenCorpus):\n",
    "        file.write(' '.join(doc) + '\\n')"
   ]
  },
  {
   "cell_type": "markdown",
   "metadata": {},
   "source": [
    "# Groupby Strophe"
   ]
  },
  {
   "cell_type": "code",
   "execution_count": 6,
   "metadata": {},
   "outputs": [
    {
     "name": "stderr",
     "output_type": "stream",
     "text": [
      "100%|██████████| 1669/1669 [00:00<00:00, 6057.42it/s]\n"
     ]
    },
    {
     "data": {
      "text/plain": [
       "['რომელმან',\n",
       " 'შექმნა',\n",
       " 'სამყარო',\n",
       " 'ძალითა',\n",
       " 'მით',\n",
       " 'ძლიერითა',\n",
       " 'ზეგარდმო',\n",
       " 'არსნი',\n",
       " 'სულითა',\n",
       " 'ყვნა',\n",
       " 'ზეცით',\n",
       " 'მონაბერითა',\n",
       " 'ჩვენ',\n",
       " 'კაცთა',\n",
       " 'მოგვცა',\n",
       " 'ქვეყანა',\n",
       " 'გვაქვს',\n",
       " 'უთვალავი',\n",
       " 'ფერითა',\n",
       " 'და',\n",
       " 'მისგან',\n",
       " 'არს',\n",
       " 'ყოვლი',\n",
       " 'ხელმწიფე',\n",
       " 'სახითა',\n",
       " 'მის',\n",
       " 'მიერითა']"
      ]
     },
     "execution_count": 6,
     "metadata": {},
     "output_type": "execute_result"
    }
   ],
   "source": [
    "strophes = df.groupby('strophe_id')\n",
    "tokenCorpus = []\n",
    "\n",
    "for c in tqdm(df.strophe_id.unique()):\n",
    "    doc = strophes.get_group(c)\n",
    "    doc = ' '.join(doc.line)\n",
    "    doc = doc.lower()\n",
    "    doc = re.sub(r\"[^Ⴀ-ჿⴀ-ⴥᲐ-Ჿ]\", ' ', doc)\n",
    "    doc = re.sub(r\"\\s+\", ' ', doc)\n",
    "    doc = doc.split(' ')\n",
    "    doc = [token for token in doc if token != '']\n",
    "    tokenCorpus.append(doc)\n",
    "\n",
    "tokenCorpus[0]"
   ]
  },
  {
   "cell_type": "code",
   "execution_count": 7,
   "metadata": {},
   "outputs": [
    {
     "name": "stderr",
     "output_type": "stream",
     "text": [
      "100%|██████████| 1669/1669 [00:00<00:00, 181925.03it/s]\n",
      "100%|██████████| 1669/1669 [00:00<00:00, 319662.70it/s]\n",
      "100%|██████████| 1669/1669 [00:00<00:00, 4037078.07it/s]\n"
     ]
    }
   ],
   "source": [
    "wordfreq = defaultdict(int)\n",
    "\n",
    "for doc in tqdm(tokenCorpus):\n",
    "    for token in doc:\n",
    "        wordfreq[token] += 1\n",
    "\n",
    "tokenCorpus = [\n",
    "    [token for token in doc if len(token) > 1]\n",
    "    for doc in tqdm(tokenCorpus)\n",
    "]\n",
    "\n",
    "tokenCorpus = [doc for doc in tqdm(tokenCorpus) if len(doc) > 1]"
   ]
  },
  {
   "cell_type": "code",
   "execution_count": 8,
   "metadata": {},
   "outputs": [
    {
     "name": "stderr",
     "output_type": "stream",
     "text": [
      "100%|██████████| 1669/1669 [00:00<00:00, 421882.32it/s]\n"
     ]
    }
   ],
   "source": [
    "with open(\"vef_corpus_strophe.txt\", \"w\") as file:\n",
    "    for doc in tqdm(tokenCorpus):\n",
    "        file.write(' '.join(doc) + '\\n')"
   ]
  },
  {
   "cell_type": "markdown",
   "metadata": {},
   "source": [
    "# Groupby Line"
   ]
  },
  {
   "cell_type": "code",
   "execution_count": 9,
   "metadata": {},
   "outputs": [
    {
     "name": "stderr",
     "output_type": "stream",
     "text": [
      "6676it [00:00, 22994.77it/s]\n"
     ]
    },
    {
     "data": {
      "text/plain": [
       "['რომელმან', 'შექმნა', 'სამყარო', 'ძალითა', 'მით', 'ძლიერითა']"
      ]
     },
     "execution_count": 9,
     "metadata": {},
     "output_type": "execute_result"
    }
   ],
   "source": [
    "lines = df\n",
    "tokenCorpus = []\n",
    "\n",
    "for i, line in tqdm(df.iterrows()):\n",
    "    doc = line.line\n",
    "    doc = doc.lower()\n",
    "    doc = re.sub(r\"[^Ⴀ-ჿⴀ-ⴥᲐ-Ჿ]\", ' ', doc)\n",
    "    doc = re.sub(r\"\\s+\", ' ', doc)\n",
    "    doc = doc.split(' ')\n",
    "    doc = [token for token in doc if token != '']\n",
    "    tokenCorpus.append(doc)\n",
    "\n",
    "tokenCorpus[0][:10]"
   ]
  },
  {
   "cell_type": "code",
   "execution_count": 10,
   "metadata": {},
   "outputs": [
    {
     "name": "stderr",
     "output_type": "stream",
     "text": [
      "100%|██████████| 6676/6676 [00:00<00:00, 605745.11it/s]\n",
      "100%|██████████| 6676/6676 [00:00<00:00, 894520.45it/s]\n",
      "100%|██████████| 6676/6676 [00:00<00:00, 4299934.51it/s]\n"
     ]
    }
   ],
   "source": [
    "wordfreq = defaultdict(int)\n",
    "\n",
    "for doc in tqdm(tokenCorpus):\n",
    "    for token in doc:\n",
    "        wordfreq[token] += 1\n",
    "\n",
    "tokenCorpus = [\n",
    "    [token for token in doc if len(token) > 1]\n",
    "    for doc in tqdm(tokenCorpus)\n",
    "]\n",
    "\n",
    "tokenCorpus = [doc for doc in tqdm(tokenCorpus) if len(doc) > 1]"
   ]
  },
  {
   "cell_type": "code",
   "execution_count": 11,
   "metadata": {},
   "outputs": [
    {
     "name": "stderr",
     "output_type": "stream",
     "text": [
      "100%|██████████| 6676/6676 [00:00<00:00, 1135581.70it/s]\n"
     ]
    }
   ],
   "source": [
    "with open(\"vef_corpus_line.txt\", \"w\") as file:\n",
    "    for doc in tqdm(tokenCorpus):\n",
    "        file.write(' '.join(doc) + '\\n')"
   ]
  },
  {
   "cell_type": "code",
   "execution_count": null,
   "metadata": {},
   "outputs": [],
   "source": []
  }
 ],
 "metadata": {
  "interpreter": {
   "hash": "5ddfca89fb0ff7038606e5fd782b59d233ff8cbd5b2a6aabb29749a82eca2773"
  },
  "kernelspec": {
   "display_name": "Python 3.9.12 ('base')",
   "language": "python",
   "name": "python3"
  },
  "language_info": {
   "codemirror_mode": {
    "name": "ipython",
    "version": 3
   },
   "file_extension": ".py",
   "mimetype": "text/x-python",
   "name": "python",
   "nbconvert_exporter": "python",
   "pygments_lexer": "ipython3",
   "version": "3.9.12"
  },
  "orig_nbformat": 4
 },
 "nbformat": 4,
 "nbformat_minor": 2
}
